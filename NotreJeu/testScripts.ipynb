{
 "cells": [
  {
   "cell_type": "markdown",
   "metadata": {},
   "source": [
    "# Ensemble de scripts de test\n"
   ]
  },
  {
   "cell_type": "markdown",
   "metadata": {},
   "source": [
    "## Classes"
   ]
  },
  {
   "cell_type": "code",
   "execution_count": 1,
   "metadata": {},
   "outputs": [],
   "source": [
    "from definitions import *"
   ]
  },
  {
   "cell_type": "markdown",
   "metadata": {},
   "source": [
    "#### Armes"
   ]
  },
  {
   "cell_type": "code",
   "execution_count": 2,
   "metadata": {},
   "outputs": [],
   "source": [
    "baton = Arme(1)\n",
    "epeeFer = Arme(5)\n",
    "tueuseDeDragons = Arme(15)"
   ]
  },
  {
   "cell_type": "markdown",
   "metadata": {},
   "source": [
    "#### Personnages"
   ]
  },
  {
   "cell_type": "markdown",
   "metadata": {},
   "source": [
    "Exemple d'un simple pnj/ennemis, Melvin. La boucle transforme les attributs de la classe en un dictionnaire, dans lequel on extrait les valeurs. La méthode *\"sauvegarder\"* de la classe *Ennemis* fonctionne d'une manière similaire, avec une liste au lieu des `print()`"
   ]
  },
  {
   "cell_type": "code",
   "execution_count": 3,
   "metadata": {},
   "outputs": [
    {
     "name": "stdout",
     "output_type": "stream",
     "text": [
      "Melvin\n",
      "15\n",
      "2\n",
      "0\n",
      "[2, 6]\n",
      "['20 pièces', 'Large Axle', 'Big Bolt']\n",
      "1\n"
     ]
    }
   ],
   "source": [
    "melvin = Personnage(\"Melvin\", 15, 2, 0, [2,6], [\"20 pièces\", \"Large Axle\", \"Big Bolt\"], baton)\n",
    "\n",
    "for value in melvin.__dict__.values():\n",
    "    if isinstance(value, Arme) :\n",
    "        print(value.degat)\n",
    "    else:\n",
    "        print(value)"
   ]
  },
  {
   "cell_type": "markdown",
   "metadata": {},
   "source": [
    "#### Ennemis"
   ]
  },
  {
   "cell_type": "markdown",
   "metadata": {},
   "source": [
    "Test de la classe *Ennemis()*. J'ajoute 2 monstres à une base de données \"monstresForet\" et je la sauvegarde en utilisant la méthode de la classe. Exécuter ce code crée un fichier .csv et un dossier *Sauvegardes* dans lequel il sera placé. Je ne sais pas si le contenu du csv est bon, faut vérifier; aussi il faut créer une méthode `charger(emplacementSave)`."
   ]
  },
  {
   "cell_type": "code",
   "execution_count": 4,
   "metadata": {},
   "outputs": [
    {
     "name": "stdout",
     "output_type": "stream",
     "text": [
      "[\"['Hibours', 59, 10, 6, [0, 0], ['Fourrure', 'Griffes'], None]\"]\n",
      "u\n"
     ]
    }
   ],
   "source": [
    "monstresForet = Ennemis()\n",
    "# monstresForet.ajouter(\"Hibours\", 59, 10, 6, [0,0], [\"Fourrure\",\"Griffes\"])\n",
    "# monstresForet.ajouter(\"Rat Garou\", 33, 2, 6, [0,0], [\"2 pièces\"], epeeFer)\n",
    "\n",
    "# monstresForet.sauvegarder(\"foret\")\n",
    "monstresForet.charger(\"foret\")\n",
    "print(monstresForet.ennemisList)\n",
    "\n",
    "\n",
    "\n",
    "\n",
    "\n",
    "\n"
   ]
  }
 ],
 "metadata": {
  "kernelspec": {
   "display_name": "Python 3",
   "language": "python",
   "name": "python3"
  },
  "language_info": {
   "codemirror_mode": {
    "name": "ipython",
    "version": 3
   },
   "file_extension": ".py",
   "mimetype": "text/x-python",
   "name": "python",
   "nbconvert_exporter": "python",
   "pygments_lexer": "ipython3",
   "version": "3.10.7"
  }
 },
 "nbformat": 4,
 "nbformat_minor": 2
}
