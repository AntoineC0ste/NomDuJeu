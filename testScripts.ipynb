{
 "cells": [
  {
   "cell_type": "markdown",
   "metadata": {},
   "source": [
    "# Ensemble de scripts de test\n"
   ]
  },
  {
   "cell_type": "markdown",
   "metadata": {},
   "source": [
    "## Classes"
   ]
  },
  {
   "cell_type": "code",
   "execution_count": 5,
   "metadata": {},
   "outputs": [],
   "source": [
    "from definitions import *"
   ]
  },
  {
   "cell_type": "markdown",
   "metadata": {},
   "source": [
    "#### Armes"
   ]
  },
  {
   "cell_type": "code",
   "execution_count": 6,
   "metadata": {},
   "outputs": [],
   "source": [
    "baton = Arme(\"baton\", 1)\n",
    "epeeFer = Arme(\"epeeFer\", 5)\n",
    "tueuseDeDragons = Arme(\"tueuseDeDragons\", 15)"
   ]
  },
  {
   "cell_type": "markdown",
   "metadata": {},
   "source": [
    "#### Personnages"
   ]
  },
  {
   "cell_type": "markdown",
   "metadata": {},
   "source": [
    "Exemple d'un simple pnj/ennemis, Melvin. La boucle transforme les attributs de la classe en un dictionnaire, dans lequel on extrait les valeurs. La méthode *\"sauvegarder\"* de la classe *Ennemis* fonctionne d'une manière similaire, avec une liste au lieu des `print()`"
   ]
  },
  {
   "cell_type": "code",
   "execution_count": 7,
   "metadata": {},
   "outputs": [
    {
     "name": "stdout",
     "output_type": "stream",
     "text": [
      "Melvin\n",
      "15\n",
      "2\n",
      "0\n",
      "[2, 6]\n",
      "['20 pièces', 'Large Axle', 'Big Bolt']\n",
      "1\n"
     ]
    }
   ],
   "source": [
    "melvin = Personnage(\"Melvin\", 15, 2, 0, [2,6], [\"20 pièces\", \"Large Axle\", \"Big Bolt\"], baton)\n",
    "\n",
    "for value in melvin.__dict__.values():\n",
    "    if isinstance(value, Arme) :\n",
    "        print(value.degat)\n",
    "    else:\n",
    "        print(value)"
   ]
  },
  {
   "cell_type": "markdown",
   "metadata": {},
   "source": [
    "#### Ennemis"
   ]
  },
  {
   "cell_type": "markdown",
   "metadata": {},
   "source": [
    "Test de la classe *Ennemis()*. J'ajoute 2 monstres à une base de données \"monstresForet\" et je la sauvegarde en utilisant la méthode de la classe. Exécuter ce code crée un fichier .csv et un dossier *Sauvegardes* dans lequel il sera placé."
   ]
  },
  {
   "cell_type": "code",
   "execution_count": 9,
   "metadata": {
    "slideshow": {
     "slide_type": "slide"
    }
   },
   "outputs": [
    {
     "name": "stdout",
     "output_type": "stream",
     "text": [
      "{'Hibours': {'nom': 'Hibours', 'pv': 59, 'atk': 10, 'defense': 6, 'pos': [0, 0], 'inventaire': ['Fourrure', 'Griffes'], 'arme': None}, 'Rat Garou': {'nom': 'Rat Garou', 'pv': 33, 'atk': 2, 'defense': 6, 'pos': [0, 0], 'inventaire': ['2 pièces'], 'arme': {'nom': 'epeeFer', 'degat': 5}}}\n",
      "{'nom': 'epeeFer', 'degat': 5}\n",
      "nom Hibours\n",
      "pv 59\n",
      "atk 10\n",
      "defense 6\n",
      "pos [0, 0]\n",
      "inventaire ['Fourrure', 'Griffes']\n",
      "arme None\n",
      "nom Rat Garou\n",
      "pv 33\n",
      "atk 2\n",
      "defense 6\n",
      "pos [0, 0]\n",
      "inventaire ['2 pièces']\n",
      "arme <definitions.Arme object at 0x000001D33899A020>\n",
      "arme epeeFer 5\n"
     ]
    }
   ],
   "source": [
    "monstresForet = Ennemis()\n",
    "# monstresForet.ajouter(\"Hibours\", 59, 10, 6, [0,0], [\"Fourrure\",\"Griffes\"])\n",
    "# monstresForet.ajouter(\"Rat Garou\", 33, 2, 6, [0,0], [\"2 pièces\"], epeeFer)\n",
    "monstresForet.charger(\"foret\")\n",
    "for monstre in monstresForet.ennemisList :\n",
    "    for attribut, valeur in monstre.__dict__.items():\n",
    "        print(attribut, valeur)\n",
    "        if attribut == 'arme' and valeur is not None:\n",
    "            print(attribut, valeur.__dict__['nom'], valeur.__dict__['degat'])\n",
    "# monstresForet.sauvegarder(\"foret\")\n",
    "\n"
   ]
  }
 ],
 "metadata": {
  "kernelspec": {
   "display_name": "Python 3",
   "language": "python",
   "name": "python3"
  },
  "language_info": {
   "codemirror_mode": {
    "name": "ipython",
    "version": 3
   },
   "file_extension": ".py",
   "mimetype": "text/x-python",
   "name": "python",
   "nbconvert_exporter": "python",
   "pygments_lexer": "ipython3",
   "version": "3.10.7"
  }
 },
 "nbformat": 4,
 "nbformat_minor": 2
}
